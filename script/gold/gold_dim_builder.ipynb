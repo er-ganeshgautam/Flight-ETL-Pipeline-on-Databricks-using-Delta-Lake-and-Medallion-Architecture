{
 "cells": [
  {
   "cell_type": "markdown",
   "metadata": {
    "application/vnd.databricks.v1+cell": {
     "cellMetadata": {
      "byteLimit": 2048000,
      "rowLimit": 10000
     },
     "inputWidgets": {},
     "nuid": "8b814545-7611-48a7-9322-59cb6745c064",
     "showTitle": false,
     "tableResultSettingsMap": {},
     "title": ""
    }
   },
   "source": [
    "# **Slowly Changing Dimension Builder**"
   ]
  },
  {
   "cell_type": "code",
   "execution_count": 0,
   "metadata": {
    "application/vnd.databricks.v1+cell": {
     "cellMetadata": {
      "byteLimit": 2048000,
      "rowLimit": 10000
     },
     "inputWidgets": {},
     "nuid": "56596a3a-5747-43a9-bade-ac3595e6cd00",
     "showTitle": false,
     "tableResultSettingsMap": {},
     "title": ""
    }
   },
   "outputs": [],
   "source": [
    "from pyspark.sql.functions import *\n",
    "from pyspark.sql.types import *\n",
    "from delta.tables import DeltaTable"
   ]
  },
  {
   "cell_type": "code",
   "execution_count": 0,
   "metadata": {
    "application/vnd.databricks.v1+cell": {
     "cellMetadata": {
      "byteLimit": 2048000,
      "rowLimit": 10000
     },
     "inputWidgets": {},
     "nuid": "558f0659-96f3-4a4e-a3e2-0e4161c44c7b",
     "showTitle": false,
     "tableResultSettingsMap": {},
     "title": ""
    }
   },
   "outputs": [],
   "source": [
    "# ## Catalog Name\n",
    "# catalog = \"workspace\"\n",
    "\n",
    "# ## Key cols list\n",
    "# key_cols = \"['flight_id']\"\n",
    "# key_cols_list = eval(key_cols)\n",
    "\n",
    "\n",
    "# ## CDC column\n",
    "# cdc_col = \"modifiedDate\"\n",
    "\n",
    "# ## Backdated Refresh\n",
    "# backdated_refresh = \"\"\n",
    "\n",
    "# ## Source Object\n",
    "# source_object = \"silver_flights\"\n",
    "\n",
    "# ## Source Schema\n",
    "# source_schema = \"silver\"\n",
    "\n",
    "# ## Target Schema\n",
    "# target_schema = \"gold\"\n",
    "\n",
    "# ## Target object\n",
    "# target_object = \"DimFlights\"\n",
    "\n",
    "# ## Surrogate Key\n",
    "# surrogate_key = \"DimFlightsKey\"\n"
   ]
  },
  {
   "cell_type": "code",
   "execution_count": 0,
   "metadata": {
    "application/vnd.databricks.v1+cell": {
     "cellMetadata": {
      "byteLimit": 2048000,
      "rowLimit": 10000
     },
     "inputWidgets": {},
     "nuid": "ecca2118-9155-42ff-9e06-fa709de7275d",
     "showTitle": false,
     "tableResultSettingsMap": {},
     "title": ""
    }
   },
   "outputs": [],
   "source": [
    "## Catalog Name\n",
    "catalog = \"workspace\"\n",
    "\n",
    "## Key cols list\n",
    "key_cols = \"['passenger_id']\"\n",
    "key_cols_list = eval(key_cols)\n",
    "\n",
    "\n",
    "## CDC column\n",
    "cdc_col = \"modifiedDate\"\n",
    "\n",
    "## Backdated Refresh\n",
    "backdated_refresh = \"\"\n",
    "\n",
    "## Source Object\n",
    "source_object = \"silver_customers\"\n",
    "\n",
    "## Source Schema\n",
    "source_schema = \"silver\"\n",
    "\n",
    "## Target Schema\n",
    "target_schema = \"gold\"\n",
    "\n",
    "## Target object\n",
    "target_object = \"DimCustomers\"\n",
    "\n",
    "## Surrogate Key\n",
    "surrogate_key = \"DimCustomersKey\"\n"
   ]
  },
  {
   "cell_type": "code",
   "execution_count": 0,
   "metadata": {
    "application/vnd.databricks.v1+cell": {
     "cellMetadata": {
      "byteLimit": 2048000,
      "rowLimit": 10000
     },
     "inputWidgets": {},
     "nuid": "d5dbdc00-ccf8-4b69-8cab-9e82709e1cef",
     "showTitle": false,
     "tableResultSettingsMap": {},
     "title": ""
    }
   },
   "outputs": [],
   "source": [
    "# ## Catalog Name\n",
    "# catalog = \"workspace\"\n",
    "\n",
    "# ## Key cols list\n",
    "# key_cols = \"['airport_id']\"\n",
    "# key_cols_list = eval(key_cols)\n",
    "\n",
    "\n",
    "# ## CDC column\n",
    "# cdc_col = \"modifiedDate\"\n",
    "\n",
    "# ## Backdated Refresh\n",
    "# backdated_refresh = \"\"\n",
    "\n",
    "# ## Source Object\n",
    "# source_object = \"silver_airports\"\n",
    "\n",
    "# ## Source Schema\n",
    "# source_schema = \"silver\"\n",
    "\n",
    "# ## Target Schema\n",
    "# target_schema = \"gold\"\n",
    "\n",
    "# ## Target object\n",
    "# target_object = \"DimAirports\"\n",
    "\n",
    "# ## Surrogate Key\n",
    "# surrogate_key = \"DimAirportsKey\"\n"
   ]
  },
  {
   "cell_type": "markdown",
   "metadata": {
    "application/vnd.databricks.v1+cell": {
     "cellMetadata": {
      "byteLimit": 2048000,
      "rowLimit": 10000
     },
     "inputWidgets": {},
     "nuid": "7d6d1957-1fac-442b-8edc-a03c954be208",
     "showTitle": false,
     "tableResultSettingsMap": {},
     "title": ""
    }
   },
   "source": [
    "## **Incremental Data Ingestion**"
   ]
  },
  {
   "cell_type": "code",
   "execution_count": 0,
   "metadata": {
    "application/vnd.databricks.v1+cell": {
     "cellMetadata": {
      "byteLimit": 2048000,
      "rowLimit": 10000
     },
     "inputWidgets": {},
     "nuid": "c2dbaa66-4595-4130-8298-7339a367e0ec",
     "showTitle": false,
     "tableResultSettingsMap": {},
     "title": ""
    }
   },
   "outputs": [
    {
     "output_type": "execute_result",
     "data": {
      "text/plain": [
       "'1900-01-01 00:00:00'"
      ]
     },
     "execution_count": 188,
     "metadata": {},
     "output_type": "execute_result"
    }
   ],
   "source": [
    "# No back date refresh\n",
    "if len(backdated_refresh) == 0:\n",
    "  # If Table exists, get the last load date\n",
    "  if spark.catalog.tableExists(f\"{catalog}.{target_schema}.{target_object}\"):\n",
    "    last_load = spark.sql(f\"SELECT MAX({cdc_col}) FROM {catalog}.{target_schema}.{target_object}\")\n",
    "  else:\n",
    "    last_load = \"1900-01-01 00:00:00\"\n",
    "# If backdated refresh is provided, use that date\n",
    "else:\n",
    "  last_load = backdated_refresh\n",
    "\n",
    "# Test to see if the last load\n",
    "last_load"
   ]
  },
  {
   "cell_type": "code",
   "execution_count": 0,
   "metadata": {
    "application/vnd.databricks.v1+cell": {
     "cellMetadata": {
      "byteLimit": 2048000,
      "rowLimit": 10000
     },
     "inputWidgets": {},
     "nuid": "43306f4e-d1f1-400e-a0d5-8b26b4818259",
     "showTitle": false,
     "tableResultSettingsMap": {},
     "title": ""
    }
   },
   "outputs": [
    {
     "output_type": "execute_result",
     "data": {
      "text/plain": [
       "'1900-01-01 00:00:00'"
      ]
     },
     "execution_count": 189,
     "metadata": {},
     "output_type": "execute_result"
    }
   ],
   "source": [
    "last_load"
   ]
  },
  {
   "cell_type": "markdown",
   "metadata": {
    "application/vnd.databricks.v1+cell": {
     "cellMetadata": {
      "byteLimit": 2048000,
      "rowLimit": 10000
     },
     "inputWidgets": {},
     "nuid": "47b4382a-a309-4459-ad64-dcf8f4a5d38c",
     "showTitle": false,
     "tableResultSettingsMap": {},
     "title": ""
    }
   },
   "source": [
    "## **Read only Changed Source Data**"
   ]
  },
  {
   "cell_type": "code",
   "execution_count": 0,
   "metadata": {
    "application/vnd.databricks.v1+cell": {
     "cellMetadata": {
      "byteLimit": 2048000,
      "rowLimit": 10000
     },
     "inputWidgets": {},
     "nuid": "6afe19b6-f354-49f4-8605-c03e931dab38",
     "showTitle": false,
     "tableResultSettingsMap": {},
     "title": ""
    }
   },
   "outputs": [],
   "source": [
    "df_src = spark.sql(f\"SELECT * FROM workspace.{source_schema}.{source_object} WHERE '{cdc_col}' > '{last_load}'\")"
   ]
  },
  {
   "cell_type": "markdown",
   "metadata": {
    "application/vnd.databricks.v1+cell": {
     "cellMetadata": {
      "byteLimit": 2048000,
      "rowLimit": 10000
     },
     "inputWidgets": {},
     "nuid": "ffc36488-dc22-448b-aa0f-530511212c48",
     "showTitle": false,
     "tableResultSettingsMap": {},
     "title": ""
    }
   },
   "source": [
    "## **Read Existing target or simulate empty for first time run**"
   ]
  },
  {
   "cell_type": "code",
   "execution_count": 0,
   "metadata": {
    "application/vnd.databricks.v1+cell": {
     "cellMetadata": {
      "byteLimit": 2048000,
      "rowLimit": 10000
     },
     "inputWidgets": {},
     "nuid": "fb86d0f0-9a62-4bdc-9b6f-93293fe376d9",
     "showTitle": false,
     "tableResultSettingsMap": {},
     "title": ""
    }
   },
   "outputs": [
    {
     "output_type": "display_data",
     "data": {
      "text/html": [
       "<style scoped>\n",
       "  .table-result-container {\n",
       "    max-height: 300px;\n",
       "    overflow: auto;\n",
       "  }\n",
       "  table, th, td {\n",
       "    border: 1px solid black;\n",
       "    border-collapse: collapse;\n",
       "  }\n",
       "  th, td {\n",
       "    padding: 5px;\n",
       "  }\n",
       "  th {\n",
       "    text-align: left;\n",
       "  }\n",
       "</style><div class='table-result-container'><table class='table-result'><thead style='background-color: white'><tr><th>passenger_id</th><th>DimCustomersKey</th><th>create_date</th><th>update_date</th></tr></thead><tbody></tbody></table></div>"
      ]
     },
     "metadata": {
      "application/vnd.databricks.v1+output": {
       "addedWidgets": {},
       "aggData": [],
       "aggError": "",
       "aggOverflow": false,
       "aggSchema": [],
       "aggSeriesLimitReached": false,
       "aggType": "",
       "arguments": {},
       "columnCustomDisplayInfos": {},
       "data": [],
       "datasetInfos": [],
       "dbfsResultPath": null,
       "isJsonSchema": true,
       "metadata": {},
       "overflow": false,
       "plotOptions": {
        "customPlotOptions": {},
        "displayType": "table",
        "pivotAggregation": null,
        "pivotColumns": null,
        "xColumns": null,
        "yColumns": null
       },
       "removedWidgets": [],
       "schema": [
        {
         "metadata": "{}",
         "name": "passenger_id",
         "type": "\"string\""
        },
        {
         "metadata": "{}",
         "name": "DimCustomersKey",
         "type": "\"integer\""
        },
        {
         "metadata": "{}",
         "name": "create_date",
         "type": "\"timestamp\""
        },
        {
         "metadata": "{}",
         "name": "update_date",
         "type": "\"timestamp\""
        }
       ],
       "type": "table"
      }
     },
     "output_type": "display_data"
    }
   ],
   "source": [
    "if spark.catalog.tableExists(f\"{catalog}.{target_schema}.{target_object}\"):\n",
    "\n",
    "    # Key Columns String for Incremental\n",
    "    key_cols_string_incremental = \", \".join(key_cols_list)\n",
    "\n",
    "    df_trg = spark.sql(f\"\"\"SELECT {key_cols_string_incremental}, {surrogate_key}, create_date, update_date FROM {catalog}.{target_schema}.{target_object}\"\"\")\n",
    "\n",
    "else:\n",
    "    key_cols_string_init = [f\" '' AS {col}\" for col in key_cols_list]\n",
    "    key_cols_string_init = \", \".join(key_cols_string_init)\n",
    "\n",
    "    df_trg = spark.sql(f\"\"\"SELECT {key_cols_string_init}, CAST('0' AS INT) AS {surrogate_key}, CAST('1900-01-01 00:00:00' AS TIMESTAMP) AS create_date, CAST    ('1900-01-01 00:00:00' AS TIMESTAMP) AS update_date WHERE 1 = 0\"\"\")\n",
    "\n",
    "df_trg.display()"
   ]
  },
  {
   "cell_type": "markdown",
   "metadata": {
    "application/vnd.databricks.v1+cell": {
     "cellMetadata": {
      "byteLimit": 2048000,
      "rowLimit": 10000
     },
     "inputWidgets": {},
     "nuid": "3024ae72-9e8c-4197-bdd6-728f1d06a0c6",
     "showTitle": false,
     "tableResultSettingsMap": {},
     "title": ""
    }
   },
   "source": [
    "## **Applying and Peforming Left Join**"
   ]
  },
  {
   "cell_type": "code",
   "execution_count": 0,
   "metadata": {
    "application/vnd.databricks.v1+cell": {
     "cellMetadata": {
      "byteLimit": 2048000,
      "rowLimit": 10000
     },
     "inputWidgets": {},
     "nuid": "a7a15725-5bea-4233-b147-5e1da3730492",
     "showTitle": false,
     "tableResultSettingsMap": {},
     "title": ""
    }
   },
   "outputs": [],
   "source": [
    "join_condition = \" AND \".join(f\"src.{col} = trg.{col}\" for col in key_cols_list)"
   ]
  },
  {
   "cell_type": "code",
   "execution_count": 0,
   "metadata": {
    "application/vnd.databricks.v1+cell": {
     "cellMetadata": {
      "byteLimit": 2048000,
      "rowLimit": 10000
     },
     "inputWidgets": {},
     "nuid": "b47f998b-3e6f-4398-bb3d-9410a566c193",
     "showTitle": false,
     "tableResultSettingsMap": {},
     "title": ""
    }
   },
   "outputs": [],
   "source": [
    "df_src.createOrReplaceTempView(\"src\")\n",
    "df_trg.createOrReplaceTempView(\"trg\")\n",
    "\n",
    "df_join = spark.sql(f\"\"\"\n",
    "                    SELECT\n",
    "                      src.*,\n",
    "                      trg.{surrogate_key} AS {surrogate_key},\n",
    "                      trg.create_date,\n",
    "                      trg.update_date\n",
    "                    FROM\n",
    "                      src\n",
    "                    LEFT JOIN\n",
    "                      trg\n",
    "                    ON\n",
    "                      {join_condition}\"\"\")"
   ]
  },
  {
   "cell_type": "markdown",
   "metadata": {
    "application/vnd.databricks.v1+cell": {
     "cellMetadata": {
      "byteLimit": 2048000,
      "rowLimit": 10000
     },
     "inputWidgets": {},
     "nuid": "57090334-0880-4f96-b24f-80c3bb42823f",
     "showTitle": false,
     "tableResultSettingsMap": {},
     "title": ""
    }
   },
   "source": [
    "**Split into old records and new records**"
   ]
  },
  {
   "cell_type": "code",
   "execution_count": 0,
   "metadata": {
    "application/vnd.databricks.v1+cell": {
     "cellMetadata": {
      "byteLimit": 2048000,
      "rowLimit": 10000
     },
     "inputWidgets": {},
     "nuid": "7ae94c07-09db-4dfc-afb9-4f17997a765a",
     "showTitle": false,
     "tableResultSettingsMap": {},
     "title": ""
    }
   },
   "outputs": [],
   "source": [
    "df_old_records = df_join.filter(col(f\"{surrogate_key}\").isNotNull())\n",
    "df_new_records = df_join.filter(col(f\"{surrogate_key}\").isNull())\n"
   ]
  },
  {
   "cell_type": "markdown",
   "metadata": {
    "application/vnd.databricks.v1+cell": {
     "cellMetadata": {
      "byteLimit": 2048000,
      "rowLimit": 10000
     },
     "inputWidgets": {},
     "nuid": "8a471747-2908-4da7-a357-676d77c276d4",
     "showTitle": false,
     "tableResultSettingsMap": {},
     "title": ""
    }
   },
   "source": [
    "## **Updating old records with new update timestamp**"
   ]
  },
  {
   "cell_type": "code",
   "execution_count": 0,
   "metadata": {
    "application/vnd.databricks.v1+cell": {
     "cellMetadata": {
      "byteLimit": 2048000,
      "rowLimit": 10000
     },
     "inputWidgets": {},
     "nuid": "dade551b-340f-4ed9-8a63-76792f8ec8ff",
     "showTitle": false,
     "tableResultSettingsMap": {},
     "title": ""
    }
   },
   "outputs": [
    {
     "output_type": "display_data",
     "data": {
      "text/html": [
       "<style scoped>\n",
       "  .table-result-container {\n",
       "    max-height: 300px;\n",
       "    overflow: auto;\n",
       "  }\n",
       "  table, th, td {\n",
       "    border: 1px solid black;\n",
       "    border-collapse: collapse;\n",
       "  }\n",
       "  th, td {\n",
       "    padding: 5px;\n",
       "  }\n",
       "  th {\n",
       "    text-align: left;\n",
       "  }\n",
       "</style><div class='table-result-container'><table class='table-result'><thead style='background-color: white'><tr><th>passenger_id</th><th>name</th><th>gender</th><th>nationality</th><th>modifiedDate</th><th>DimCustomersKey</th><th>create_date</th><th>update_date</th></tr></thead><tbody></tbody></table></div>"
      ]
     },
     "metadata": {
      "application/vnd.databricks.v1+output": {
       "addedWidgets": {},
       "aggData": [],
       "aggError": "",
       "aggOverflow": false,
       "aggSchema": [],
       "aggSeriesLimitReached": false,
       "aggType": "",
       "arguments": {},
       "columnCustomDisplayInfos": {},
       "data": [],
       "datasetInfos": [],
       "dbfsResultPath": null,
       "isJsonSchema": true,
       "metadata": {},
       "overflow": false,
       "plotOptions": {
        "customPlotOptions": {},
        "displayType": "table",
        "pivotAggregation": null,
        "pivotColumns": null,
        "xColumns": null,
        "yColumns": null
       },
       "removedWidgets": [],
       "schema": [
        {
         "metadata": "{}",
         "name": "passenger_id",
         "type": "\"string\""
        },
        {
         "metadata": "{}",
         "name": "name",
         "type": "\"string\""
        },
        {
         "metadata": "{}",
         "name": "gender",
         "type": "\"string\""
        },
        {
         "metadata": "{}",
         "name": "nationality",
         "type": "\"string\""
        },
        {
         "metadata": "{}",
         "name": "modifiedDate",
         "type": "\"timestamp\""
        },
        {
         "metadata": "{}",
         "name": "DimCustomersKey",
         "type": "\"integer\""
        },
        {
         "metadata": "{}",
         "name": "create_date",
         "type": "\"timestamp\""
        },
        {
         "metadata": "{}",
         "name": "update_date",
         "type": "\"timestamp\""
        }
       ],
       "type": "table"
      }
     },
     "output_type": "display_data"
    }
   ],
   "source": [
    "df_old_enr = df_old_records.withColumn('update_date', current_timestamp())\n",
    "df_old_enr.display()"
   ]
  },
  {
   "cell_type": "markdown",
   "metadata": {
    "application/vnd.databricks.v1+cell": {
     "cellMetadata": {
      "byteLimit": 2048000,
      "rowLimit": 10000
     },
     "inputWidgets": {},
     "nuid": "09d9466a-b7e3-4710-aef6-fad3977253cc",
     "showTitle": false,
     "tableResultSettingsMap": {},
     "title": ""
    }
   },
   "source": [
    "## **Assigning Surrogate key and timestamps to new records**"
   ]
  },
  {
   "cell_type": "code",
   "execution_count": 0,
   "metadata": {
    "application/vnd.databricks.v1+cell": {
     "cellMetadata": {
      "byteLimit": 2048000,
      "rowLimit": 10000
     },
     "inputWidgets": {},
     "nuid": "594f8b07-c529-42c1-98b5-94dd947b28a0",
     "showTitle": false,
     "tableResultSettingsMap": {},
     "title": ""
    }
   },
   "outputs": [],
   "source": [
    "if spark.catalog.tableExists(f\"{catalog}.{target_schema}.{target_object}\"):\n",
    "  max_surrogate_key = spark.sql(f\"\"\"\n",
    "                                SELECT \n",
    "                                  MAX({surrogate_key})\n",
    "                                FROM  \n",
    "                                  {catalog}.{target_schema}.{target_object}\n",
    "                                \"\"\").collect()[0][0]\n",
    "  df_new_enr = df_new_records.withColumn(f\"{surrogate_key}\", lit(max_surrogate_key) + lit(1) + monotonically_increasing_id())\\\n",
    "                             .withColumn('create_date', current_timestamp())\\\n",
    "                             .withColumn('update_date', current_timestamp())\n",
    "\n",
    "else:\n",
    "  max_surrogate_key = 0  \n",
    "  df_new_enr = df_new_records.withColumn(f\"{surrogate_key}\", lit(max_surrogate_key) + lit(1) + monotonically_increasing_id())\\\n",
    "                             .withColumn('create_date', current_timestamp())\\\n",
    "                             .withColumn('update_date', current_timestamp())\n",
    "  "
   ]
  },
  {
   "cell_type": "markdown",
   "metadata": {
    "application/vnd.databricks.v1+cell": {
     "cellMetadata": {
      "byteLimit": 2048000,
      "rowLimit": 10000
     },
     "inputWidgets": {},
     "nuid": "a64fe475-84e7-47b0-bcbf-13254945221e",
     "showTitle": false,
     "tableResultSettingsMap": {},
     "title": ""
    }
   },
   "source": [
    "## **Union Old destination records with new and merge to delta table**"
   ]
  },
  {
   "cell_type": "code",
   "execution_count": 0,
   "metadata": {
    "application/vnd.databricks.v1+cell": {
     "cellMetadata": {
      "byteLimit": 2048000,
      "rowLimit": 10000
     },
     "inputWidgets": {},
     "nuid": "cce0351b-12ca-4125-8f57-fda47584e6e0",
     "showTitle": false,
     "tableResultSettingsMap": {},
     "title": ""
    }
   },
   "outputs": [],
   "source": [
    "df_union = df_old_enr.union(df_new_enr)"
   ]
  },
  {
   "cell_type": "code",
   "execution_count": 0,
   "metadata": {
    "application/vnd.databricks.v1+cell": {
     "cellMetadata": {
      "byteLimit": 2048000,
      "rowLimit": 10000
     },
     "inputWidgets": {},
     "nuid": "6aee1922-9f65-4326-81d0-b184e4b9c177",
     "showTitle": false,
     "tableResultSettingsMap": {},
     "title": ""
    }
   },
   "outputs": [],
   "source": [
    "if spark.catalog.tableExists(f\"{catalog}.{target_schema}.{target_object}\"):\n",
    "    dlt_obj = DeltaTable.forName(spark, f\"{catalog}.{target_schema}.{target_object}\")\n",
    "    dlt_obj.alias(\"trg\").merge(df_union.alias(\"src\"), f\"trg.{surrogate_key} = src.{surrogate_key}\")\\\n",
    "                        .whenMatchedUpdateAll(condition = f\"src.{cdc_col} >= trg.{cdc_col}\")\\\n",
    "                        .whenNotMatchedInsertAll()\\\n",
    "                        .execute()\n",
    "\n",
    "\n",
    "else:\n",
    "    df_union.write.format(\"delta\")\\\n",
    "            .mode(\"append\")\\\n",
    "            .saveAsTable(f\"{catalog}.{target_schema}.{target_object}\")"
   ]
  }
 ],
 "metadata": {
  "application/vnd.databricks.v1+notebook": {
   "computePreferences": null,
   "dashboards": [],
   "environmentMetadata": {
    "base_environment": "",
    "environment_version": "2"
   },
   "inputWidgetPreferences": null,
   "language": "python",
   "notebookMetadata": {
    "mostRecentlyExecutedCommandWithImplicitDF": {
     "commandId": 6657528125852141,
     "dataframes": [
      "_sqldf"
     ]
    },
    "pythonIndentUnit": 4
   },
   "notebookName": "gold_dim",
   "widgets": {}
  },
  "language_info": {
   "name": "python"
  }
 },
 "nbformat": 4,
 "nbformat_minor": 0
}