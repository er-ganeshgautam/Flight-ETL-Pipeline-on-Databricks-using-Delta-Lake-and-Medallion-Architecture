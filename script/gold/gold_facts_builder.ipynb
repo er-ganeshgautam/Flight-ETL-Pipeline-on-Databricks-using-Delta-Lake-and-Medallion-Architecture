{
 "cells": [
  {
   "cell_type": "code",
   "execution_count": 0,
   "metadata": {
    "application/vnd.databricks.v1+cell": {
     "cellMetadata": {
      "byteLimit": 2048000,
      "rowLimit": 10000
     },
     "inputWidgets": {},
     "nuid": "f6c26c39-e751-48f1-b382-e0b14c771c70",
     "showTitle": false,
     "tableResultSettingsMap": {},
     "title": ""
    }
   },
   "outputs": [],
   "source": [
    "from pyspark.sql.functions import *"
   ]
  },
  {
   "cell_type": "markdown",
   "metadata": {
    "application/vnd.databricks.v1+cell": {
     "cellMetadata": {},
     "inputWidgets": {},
     "nuid": "645914be-01da-4ea4-b315-b40770e3d066",
     "showTitle": false,
     "tableResultSettingsMap": {},
     "title": ""
    }
   },
   "source": [
    "## **Parameters**"
   ]
  },
  {
   "cell_type": "code",
   "execution_count": 0,
   "metadata": {
    "application/vnd.databricks.v1+cell": {
     "cellMetadata": {
      "byteLimit": 2048000,
      "rowLimit": 10000
     },
     "inputWidgets": {},
     "nuid": "a7a955ed-9bd1-4355-8eda-63293d6374fd",
     "showTitle": false,
     "tableResultSettingsMap": {},
     "title": ""
    }
   },
   "outputs": [],
   "source": [
    "catalog = \"workspace\"\n",
    "source_schema = \"silver\"\n",
    "source_object = \"silver_bookings\"\n",
    "cdc_column = \"modifiedDate\"\n",
    "backdated_refresh = \"\"\n",
    "fact_table = f\"{catalog}.{source_schema}.{source_object}\"\n",
    "target_schema = \"gold\"\n",
    "target_object = \"FactBookings\"\n",
    "fact_key_cols = [\"DimCustomersKey\", \"DimFlightsKey\", \"DimAirportsKey\", \"booking_date\"]"
   ]
  },
  {
   "cell_type": "code",
   "execution_count": 0,
   "metadata": {
    "application/vnd.databricks.v1+cell": {
     "cellMetadata": {
      "byteLimit": 2048000,
      "rowLimit": 10000
     },
     "inputWidgets": {},
     "nuid": "29dd0e09-02d7-4969-bfc5-d1086dc073fc",
     "showTitle": false,
     "tableResultSettingsMap": {},
     "title": ""
    }
   },
   "outputs": [],
   "source": [
    "dimensions = [\n",
    "    {\n",
    "        \"table\" : f\"{catalog}.{target_schema}.DimCustomers\",\n",
    "        \"alias\" : \"DimCustomers\",\n",
    "        \"join_keys\" : [(\"passenger_id\", \"passenger_id\")]\n",
    "    },\n",
    "    {\n",
    "        \"table\" : f\"{catalog}.{target_schema}.DimFlights\",\n",
    "        \"alias\" : \"DimFlights\",\n",
    "        \"join_keys\" : [(\"flight_id\", \"flight_id\")]\n",
    "    },\n",
    "    {\n",
    "        \"table\" : f\"{catalog}.{target_schema}.DimAirports\",\n",
    "        \"alias\" : \"DimAirport\",\n",
    "        \"join_keys\" : [(\"airport_id\", \"airport_id\")]\n",
    "    }\n",
    "]\n",
    "\n",
    "# Columns you want to keep from Fact table (besides the surrogate keys)\n",
    "fact_cols = [\"amount\", \"booking_date\", \"modifiedDate\"]"
   ]
  },
  {
   "cell_type": "markdown",
   "metadata": {
    "application/vnd.databricks.v1+cell": {
     "cellMetadata": {},
     "inputWidgets": {},
     "nuid": "039a4b84-2098-4e30-82e9-68f9f1da1bd9",
     "showTitle": false,
     "tableResultSettingsMap": {},
     "title": ""
    }
   },
   "source": [
    "## **Last Load Date**"
   ]
  },
  {
   "cell_type": "code",
   "execution_count": 0,
   "metadata": {
    "application/vnd.databricks.v1+cell": {
     "cellMetadata": {
      "byteLimit": 2048000,
      "rowLimit": 10000
     },
     "inputWidgets": {},
     "nuid": "7b8c9c4e-0960-4d59-bc8e-461115bd2400",
     "showTitle": false,
     "tableResultSettingsMap": {},
     "title": ""
    }
   },
   "outputs": [
    {
     "output_type": "execute_result",
     "data": {
      "text/plain": [
       "'1900-01-01 00:00:00'"
      ]
     },
     "execution_count": 18,
     "metadata": {},
     "output_type": "execute_result"
    }
   ],
   "source": [
    "if len(backdated_refresh) == 0:\n",
    "  if spark.catalog.tableExists(f\"{catalog}.{target_schema}.{target_object}\"):\n",
    "    last_load = spark.sql(f\"SELECT MAX({cdc_column}) FROM {catalog}.{target_schema}.{target_object}\").collect()[0][0]\n",
    "\n",
    "  else:\n",
    "    last_load = \"1900-01-01 00:00:00\"\n",
    "else:\n",
    "  last_load = backdated_refresh\n",
    "\n",
    "last_load"
   ]
  },
  {
   "cell_type": "markdown",
   "metadata": {
    "application/vnd.databricks.v1+cell": {
     "cellMetadata": {},
     "inputWidgets": {},
     "nuid": "0435f785-67e3-4ce0-816d-b87a36a8fe65",
     "showTitle": false,
     "tableResultSettingsMap": {},
     "title": ""
    }
   },
   "source": [
    "## **Dynamic Fact Query**\n"
   ]
  },
  {
   "cell_type": "code",
   "execution_count": 0,
   "metadata": {
    "application/vnd.databricks.v1+cell": {
     "cellMetadata": {
      "byteLimit": 2048000,
      "rowLimit": 10000
     },
     "inputWidgets": {},
     "nuid": "e4a730fe-a184-4fb2-b334-ef37aa44bb47",
     "showTitle": false,
     "tableResultSettingsMap": {},
     "title": ""
    }
   },
   "outputs": [
    {
     "output_type": "execute_result",
     "data": {
      "text/plain": [
       "'f.passenger_id = DimCustomers.passenger_id\\nf.flight_id = DimFlights.flight_id\\nf.airport_id = DimAirport.airport_id'"
      ]
     },
     "execution_count": 77,
     "metadata": {},
     "output_type": "execute_result"
    }
   ],
   "source": [
    "fact_alias = \"f\"\n",
    "\n",
    "    # Base columns to select\n",
    "select_cols = [f\"{fact_alias}.{col}\" for col in fact_cols]\n",
    "\n",
    "    #Build joins dynamically\n",
    "join_clauses = []\n",
    "for dim in dimensions:\n",
    "    table_full = dim[\"table\"]\n",
    "    alias = dim[\"alias\"]\n",
    "    table_name = table_full.split(\".\")[-1]\n",
    "    surrogate_key = f\"{alias}.{table_name}Key\"\n",
    "    select_cols.append(surrogate_key)\n",
    "\n",
    "    on_conditions = [\n",
    "        f\"{fact_alias}.{fk} = {alias}.{dk}\" for fk, dk in dim[\"join_keys\"]\n",
    "    ]\n",
    "    join_clause = f\"LEFT JOIN {table_full} AS {alias} ON\" \" AND \".join(on_conditions)\n",
    "    join_clauses.append(join_clause)\n",
    "\n",
    "# Final SELECT and JOIN clauses\n",
    "select_clause = \",\\n    \".join(select_cols)\n",
    "joins = \"\\n\".join(join_clauses)\n",
    "\n",
    "# WHERE clauses for incremenetal filtering\n",
    "where_clause = f\"WHERE {fact_alias}.{cdc_column} >= DATE('{last_load}')\"\n",
    "\n",
    "# Final Query\n",
    "    query = f\"\"\"\n",
    "SELECT\n",
    "    {select_clause}\n",
    "FROM\n",
    "    {fact_table} AS {fact_alias}\n",
    "    {joins}\n",
    "WHERE\n",
    "    {where_clause}\n",
    "    \"\"\".strip() \n",
    "\n",
    "    return query\n"
   ]
  },
  {
   "cell_type": "code",
   "execution_count": 0,
   "metadata": {
    "application/vnd.databricks.v1+cell": {
     "cellMetadata": {
      "byteLimit": 2048000,
      "rowLimit": 10000
     },
     "inputWidgets": {},
     "nuid": "8177143a-ce5f-45e3-8c2b-88e0a38baf7d",
     "showTitle": false,
     "tableResultSettingsMap": {},
     "title": ""
    }
   },
   "outputs": [],
   "source": [
    "def generate_fact_query_incremental(fact_table, dimensions, fact_cols, cdc_column, processing_date):\n",
    "    fact_alias = \"f\"\n",
    "\n",
    "    # Base columns to select\n",
    "    select_cols = [f\"{fact_alias}.{col}\" for col in fact_cols]\n",
    "\n",
    "    #Build joins dynamically\n",
    "    join_clauses = []\n",
    "    for dim in dimensions:\n",
    "        table_full = dim[\"table\"]\n",
    "        alias = dim[\"alias\"]\n",
    "        table_name = table_full.split(\".\")[-1]\n",
    "        surrogate_key = f\"{alias}.{table_name}Key\"\n",
    "        select_cols.append(surrogate_key)\n",
    "\n",
    "        #Build ON clause\n",
    "        on_conditions = [\n",
    "        f\"{fact_alias}.{fk} = {alias}.{dk}\" for fk, dk in dim[\"join_keys\"]\n",
    "        ]\n",
    "        join_clause = f\"LEFT JOIN {table_full} {alias} ON \" + \" AND \".join(on_conditions)\n",
    "        join_clauses.append(join_clause)\n",
    "\n",
    "    # Final SELECT and JOIN clauses\n",
    "    select_clause = \",\\n    \".join(select_cols)\n",
    "    joins = \"\\n\".join(join_clauses)\n",
    "\n",
    "    # WHERE clauses for incremenetal filtering\n",
    "    where_clause = f\"{fact_alias}.{cdc_column} >= DATE('{last_load}')\"\n",
    "\n",
    "    # Final Query\n",
    "    query = f\"\"\"\n",
    "SELECT\n",
    "    {select_clause}\n",
    "FROM\n",
    "    {fact_table} {fact_alias}\n",
    "{joins}\n",
    "WHERE\n",
    "    {where_clause}\n",
    "\"\"\".strip()\n",
    "\n",
    "    return query\n"
   ]
  },
  {
   "cell_type": "code",
   "execution_count": 0,
   "metadata": {
    "application/vnd.databricks.v1+cell": {
     "cellMetadata": {
      "byteLimit": 2048000,
      "rowLimit": 10000
     },
     "inputWidgets": {},
     "nuid": "3ee69657-2daa-4637-aa0d-1d240c2f395a",
     "showTitle": false,
     "tableResultSettingsMap": {},
     "title": ""
    }
   },
   "outputs": [],
   "source": [
    "query = generate_fact_query_incremental(fact_table, dimensions, fact_cols, cdc_column, last_load)"
   ]
  },
  {
   "cell_type": "markdown",
   "metadata": {
    "application/vnd.databricks.v1+cell": {
     "cellMetadata": {},
     "inputWidgets": {},
     "nuid": "25dcbcbb-adbe-4c8e-a2c9-d8c062fbc8e8",
     "showTitle": false,
     "tableResultSettingsMap": {},
     "title": ""
    }
   },
   "source": [
    "## **UPSERT**"
   ]
  },
  {
   "cell_type": "code",
   "execution_count": 0,
   "metadata": {
    "application/vnd.databricks.v1+cell": {
     "cellMetadata": {},
     "inputWidgets": {},
     "nuid": "b07e68c7-649b-45a9-baa5-63ff5573a9ee",
     "showTitle": false,
     "tableResultSettingsMap": {},
     "title": ""
    }
   },
   "outputs": [],
   "source": [
    "df_fact = spark.sql(query)"
   ]
  },
  {
   "cell_type": "code",
   "execution_count": 0,
   "metadata": {
    "application/vnd.databricks.v1+cell": {
     "cellMetadata": {
      "byteLimit": 2048000,
      "rowLimit": 10000
     },
     "inputWidgets": {},
     "nuid": "d21d6a42-91de-4319-872c-848a1b3862b6",
     "showTitle": false,
     "tableResultSettingsMap": {},
     "title": ""
    }
   },
   "outputs": [
    {
     "output_type": "execute_result",
     "data": {
      "text/plain": [
       "'src.DimCustomersKey = trg.DimCustomersKey AND src.DimFlightsKey = trg.DimFlightsKey AND src.DimAirportsKey = trg.DimAirportsKey AND src.booking_date = trg.booking_date'"
      ]
     },
     "execution_count": 122,
     "metadata": {},
     "output_type": "execute_result"
    }
   ],
   "source": [
    "fact_key_cols_str = \" AND \".join([f\"src.{col} = trg.{col}\" for col in fact_key_cols])\n",
    "fact_key_cols_str"
   ]
  },
  {
   "cell_type": "code",
   "execution_count": 0,
   "metadata": {
    "application/vnd.databricks.v1+cell": {
     "cellMetadata": {
      "byteLimit": 2048000,
      "rowLimit": 10000
     },
     "inputWidgets": {},
     "nuid": "28edbd2e-e0bf-429f-9f6e-5e8a0de20a3e",
     "showTitle": false,
     "tableResultSettingsMap": {},
     "title": ""
    }
   },
   "outputs": [],
   "source": [
    "from delta.tables import DeltaTable\n",
    "\n",
    "if spark.catalog.tableExists(f\"{catalog}.{target_schema}.{target_object}\"):\n",
    "    dlt_obj = DeltaTable.forName(spark, f\"{catalog}.{target_schema}.{target_object}\")\n",
    "    dlt_obj.alias(\"trg\").merge(df_fact.alias(\"src\"), fact_key_cols_str)\\\n",
    "                        .whenMatchedUpdateAll(condition = f\"src.{cdc_column} >= trg.{cdc_column}\")\\\n",
    "                        .whenNotMatchedInsertAll()\\\n",
    "                        .execute()\n",
    "\n",
    "\n",
    "else:\n",
    "    df_fact.write.format(\"delta\")\\\n",
    "            .mode(\"append\")\\\n",
    "            .saveAsTable(f\"{catalog}.{target_schema}.{target_object}\")"
   ]
  }
 ],
 "metadata": {
  "application/vnd.databricks.v1+notebook": {
   "computePreferences": null,
   "dashboards": [],
   "environmentMetadata": {
    "base_environment": "",
    "environment_version": "2"
   },
   "inputWidgetPreferences": null,
   "language": "python",
   "notebookMetadata": {
    "mostRecentlyExecutedCommandWithImplicitDF": {
     "commandId": 8612521122888137,
     "dataframes": [
      "_sqldf"
     ]
    },
    "pythonIndentUnit": 4
   },
   "notebookName": "gold_facts",
   "widgets": {}
  },
  "language_info": {
   "name": "python"
  }
 },
 "nbformat": 4,
 "nbformat_minor": 0
}